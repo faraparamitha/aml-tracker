{
 "cells": [
  {
   "cell_type": "markdown",
   "id": "7004ae49",
   "metadata": {},
   "source": [
    "# Data Preparation"
   ]
  },
  {
   "cell_type": "code",
   "execution_count": 1,
   "id": "d685e164",
   "metadata": {},
   "outputs": [
    {
     "name": "stdout",
     "output_type": "stream",
     "text": [
      "Requirement already satisfied: pyvis in c:\\users\\pc\\anaconda3\\lib\\site-packages (0.3.2)\n",
      "Requirement already satisfied: ipython>=5.3.0 in c:\\users\\pc\\anaconda3\\lib\\site-packages (from pyvis) (8.10.0)\n",
      "Requirement already satisfied: networkx>=1.11 in c:\\users\\pc\\anaconda3\\lib\\site-packages (from pyvis) (2.8.4)\n",
      "Requirement already satisfied: jinja2>=2.9.6 in c:\\users\\pc\\anaconda3\\lib\\site-packages (from pyvis) (3.1.2)\n",
      "Requirement already satisfied: jsonpickle>=1.4.1 in c:\\users\\pc\\anaconda3\\lib\\site-packages (from pyvis) (3.0.1)\n",
      "Requirement already satisfied: pygments>=2.4.0 in c:\\users\\pc\\anaconda3\\lib\\site-packages (from ipython>=5.3.0->pyvis) (2.11.2)\n",
      "Requirement already satisfied: stack-data in c:\\users\\pc\\anaconda3\\lib\\site-packages (from ipython>=5.3.0->pyvis) (0.2.0)\n",
      "Requirement already satisfied: prompt-toolkit<3.1.0,>=3.0.30 in c:\\users\\pc\\anaconda3\\lib\\site-packages (from ipython>=5.3.0->pyvis) (3.0.36)\n",
      "Requirement already satisfied: matplotlib-inline in c:\\users\\pc\\anaconda3\\lib\\site-packages (from ipython>=5.3.0->pyvis) (0.1.6)\n",
      "Requirement already satisfied: colorama in c:\\users\\pc\\anaconda3\\lib\\site-packages (from ipython>=5.3.0->pyvis) (0.4.6)\n",
      "Requirement already satisfied: pickleshare in c:\\users\\pc\\anaconda3\\lib\\site-packages (from ipython>=5.3.0->pyvis) (0.7.5)\n",
      "Requirement already satisfied: traitlets>=5 in c:\\users\\pc\\anaconda3\\lib\\site-packages (from ipython>=5.3.0->pyvis) (5.7.1)\n",
      "Requirement already satisfied: decorator in c:\\users\\pc\\anaconda3\\lib\\site-packages (from ipython>=5.3.0->pyvis) (5.1.1)\n",
      "Requirement already satisfied: jedi>=0.16 in c:\\users\\pc\\anaconda3\\lib\\site-packages (from ipython>=5.3.0->pyvis) (0.18.1)\n",
      "Requirement already satisfied: backcall in c:\\users\\pc\\anaconda3\\lib\\site-packages (from ipython>=5.3.0->pyvis) (0.2.0)\n",
      "Requirement already satisfied: MarkupSafe>=2.0 in c:\\users\\pc\\anaconda3\\lib\\site-packages (from jinja2>=2.9.6->pyvis) (2.1.1)\n",
      "Requirement already satisfied: parso<0.9.0,>=0.8.0 in c:\\users\\pc\\anaconda3\\lib\\site-packages (from jedi>=0.16->ipython>=5.3.0->pyvis) (0.8.3)\n",
      "Requirement already satisfied: wcwidth in c:\\users\\pc\\anaconda3\\lib\\site-packages (from prompt-toolkit<3.1.0,>=3.0.30->ipython>=5.3.0->pyvis) (0.2.5)\n",
      "Requirement already satisfied: executing in c:\\users\\pc\\anaconda3\\lib\\site-packages (from stack-data->ipython>=5.3.0->pyvis) (0.8.3)\n",
      "Requirement already satisfied: pure-eval in c:\\users\\pc\\anaconda3\\lib\\site-packages (from stack-data->ipython>=5.3.0->pyvis) (0.2.2)\n",
      "Requirement already satisfied: asttokens in c:\\users\\pc\\anaconda3\\lib\\site-packages (from stack-data->ipython>=5.3.0->pyvis) (2.0.5)\n",
      "Requirement already satisfied: six in c:\\users\\pc\\anaconda3\\lib\\site-packages (from asttokens->stack-data->ipython>=5.3.0->pyvis) (1.16.0)\n",
      "Note: you may need to restart the kernel to use updated packages.\n"
     ]
    }
   ],
   "source": [
    "pip install pyvis"
   ]
  },
  {
   "cell_type": "code",
   "execution_count": 2,
   "id": "ce188401",
   "metadata": {
    "scrolled": true
   },
   "outputs": [],
   "source": [
    "import pandas as pd\n",
    "import networkx as nx\n",
    "from pyvis import network as net\n",
    "import matplotlib.pyplot as plt\n",
    "%matplotlib inline"
   ]
  },
  {
   "cell_type": "code",
   "execution_count": 3,
   "id": "73893779-2de7-4055-bf9e-561802a697e4",
   "metadata": {},
   "outputs": [
    {
     "data": {
      "text/html": [
       "<div>\n",
       "<style scoped>\n",
       "    .dataframe tbody tr th:only-of-type {\n",
       "        vertical-align: middle;\n",
       "    }\n",
       "\n",
       "    .dataframe tbody tr th {\n",
       "        vertical-align: top;\n",
       "    }\n",
       "\n",
       "    .dataframe thead th {\n",
       "        text-align: right;\n",
       "    }\n",
       "</style>\n",
       "<table border=\"1\" class=\"dataframe\">\n",
       "  <thead>\n",
       "    <tr style=\"text-align: right;\">\n",
       "      <th></th>\n",
       "      <th>typeofaction</th>\n",
       "      <th>sourceid</th>\n",
       "      <th>destinationid</th>\n",
       "      <th>amountofmoney</th>\n",
       "      <th>date</th>\n",
       "      <th>isfraud</th>\n",
       "      <th>typeoffraud</th>\n",
       "    </tr>\n",
       "  </thead>\n",
       "  <tbody>\n",
       "    <tr>\n",
       "      <th>0</th>\n",
       "      <td>cash-in</td>\n",
       "      <td>30105</td>\n",
       "      <td>28942</td>\n",
       "      <td>494528</td>\n",
       "      <td>2019-07-19 14:40:00</td>\n",
       "      <td>1</td>\n",
       "      <td>type1</td>\n",
       "    </tr>\n",
       "    <tr>\n",
       "      <th>1</th>\n",
       "      <td>cash-in</td>\n",
       "      <td>30105</td>\n",
       "      <td>8692</td>\n",
       "      <td>494528</td>\n",
       "      <td>2019-05-17 14:57:00</td>\n",
       "      <td>1</td>\n",
       "      <td>type1</td>\n",
       "    </tr>\n",
       "    <tr>\n",
       "      <th>2</th>\n",
       "      <td>cash-in</td>\n",
       "      <td>30105</td>\n",
       "      <td>60094</td>\n",
       "      <td>494528</td>\n",
       "      <td>2019-07-20 13:20:00</td>\n",
       "      <td>1</td>\n",
       "      <td>type1</td>\n",
       "    </tr>\n",
       "    <tr>\n",
       "      <th>3</th>\n",
       "      <td>cash-in</td>\n",
       "      <td>30105</td>\n",
       "      <td>20575</td>\n",
       "      <td>494528</td>\n",
       "      <td>2019-07-03 14:15:00</td>\n",
       "      <td>1</td>\n",
       "      <td>type1</td>\n",
       "    </tr>\n",
       "    <tr>\n",
       "      <th>4</th>\n",
       "      <td>cash-in</td>\n",
       "      <td>30105</td>\n",
       "      <td>45938</td>\n",
       "      <td>494528</td>\n",
       "      <td>2019-05-26 10:40:00</td>\n",
       "      <td>1</td>\n",
       "      <td>type1</td>\n",
       "    </tr>\n",
       "  </tbody>\n",
       "</table>\n",
       "</div>"
      ],
      "text/plain": [
       "  typeofaction  sourceid  destinationid  amountofmoney                 date  \\\n",
       "0      cash-in     30105          28942         494528  2019-07-19 14:40:00   \n",
       "1      cash-in     30105           8692         494528  2019-05-17 14:57:00   \n",
       "2      cash-in     30105          60094         494528  2019-07-20 13:20:00   \n",
       "3      cash-in     30105          20575         494528  2019-07-03 14:15:00   \n",
       "4      cash-in     30105          45938         494528  2019-05-26 10:40:00   \n",
       "\n",
       "   isfraud typeoffraud  \n",
       "0        1       type1  \n",
       "1        1       type1  \n",
       "2        1       type1  \n",
       "3        1       type1  \n",
       "4        1       type1  "
      ]
     },
     "execution_count": 3,
     "metadata": {},
     "output_type": "execute_result"
    }
   ],
   "source": [
    "location=\"ML.csv\"\n",
    "data=pd.read_csv(location)\n",
    "data.head(5)"
   ]
  },
  {
   "cell_type": "code",
   "execution_count": 4,
   "id": "b4a89ad7",
   "metadata": {},
   "outputs": [],
   "source": [
    "location=\"ML.csv\"\n",
    "data=pd.read_csv(location)\n",
    "\n",
    "rel=list(zip(data.sourceid,data.destinationid,data.amountofmoney))\n",
    "\n",
    "pp=pd.DataFrame(data=rel , columns=['source','target','weight'])\n",
    "pp.to_csv('data_new.csv',index=False)"
   ]
  },
  {
   "cell_type": "code",
   "execution_count": 5,
   "id": "c419138c-a548-44d2-8ae3-ca8830abed1a",
   "metadata": {},
   "outputs": [
    {
     "data": {
      "text/html": [
       "<div>\n",
       "<style scoped>\n",
       "    .dataframe tbody tr th:only-of-type {\n",
       "        vertical-align: middle;\n",
       "    }\n",
       "\n",
       "    .dataframe tbody tr th {\n",
       "        vertical-align: top;\n",
       "    }\n",
       "\n",
       "    .dataframe thead th {\n",
       "        text-align: right;\n",
       "    }\n",
       "</style>\n",
       "<table border=\"1\" class=\"dataframe\">\n",
       "  <thead>\n",
       "    <tr style=\"text-align: right;\">\n",
       "      <th></th>\n",
       "      <th>source</th>\n",
       "      <th>target</th>\n",
       "      <th>weight</th>\n",
       "    </tr>\n",
       "  </thead>\n",
       "  <tbody>\n",
       "    <tr>\n",
       "      <th>0</th>\n",
       "      <td>30105</td>\n",
       "      <td>28942</td>\n",
       "      <td>494528</td>\n",
       "    </tr>\n",
       "    <tr>\n",
       "      <th>1</th>\n",
       "      <td>30105</td>\n",
       "      <td>8692</td>\n",
       "      <td>494528</td>\n",
       "    </tr>\n",
       "    <tr>\n",
       "      <th>2</th>\n",
       "      <td>30105</td>\n",
       "      <td>60094</td>\n",
       "      <td>494528</td>\n",
       "    </tr>\n",
       "    <tr>\n",
       "      <th>3</th>\n",
       "      <td>30105</td>\n",
       "      <td>20575</td>\n",
       "      <td>494528</td>\n",
       "    </tr>\n",
       "    <tr>\n",
       "      <th>4</th>\n",
       "      <td>30105</td>\n",
       "      <td>45938</td>\n",
       "      <td>494528</td>\n",
       "    </tr>\n",
       "  </tbody>\n",
       "</table>\n",
       "</div>"
      ],
      "text/plain": [
       "   source  target  weight\n",
       "0   30105   28942  494528\n",
       "1   30105    8692  494528\n",
       "2   30105   60094  494528\n",
       "3   30105   20575  494528\n",
       "4   30105   45938  494528"
      ]
     },
     "execution_count": 5,
     "metadata": {},
     "output_type": "execute_result"
    }
   ],
   "source": [
    "data_new=pd.read_csv('data_new.csv')\n",
    "data_new.head(5)"
   ]
  },
  {
   "cell_type": "markdown",
   "id": "8d8bfc0e",
   "metadata": {},
   "source": [
    "untuk mengetahui banyak transaksi yang dilakukan (nggak guna karena datanya emang cuma transaksi sekali)"
   ]
  },
  {
   "cell_type": "code",
   "execution_count": 6,
   "id": "cb58f1fa",
   "metadata": {},
   "outputs": [
    {
     "data": {
      "text/html": [
       "<div>\n",
       "<style scoped>\n",
       "    .dataframe tbody tr th:only-of-type {\n",
       "        vertical-align: middle;\n",
       "    }\n",
       "\n",
       "    .dataframe tbody tr th {\n",
       "        vertical-align: top;\n",
       "    }\n",
       "\n",
       "    .dataframe thead th {\n",
       "        text-align: right;\n",
       "    }\n",
       "</style>\n",
       "<table border=\"1\" class=\"dataframe\">\n",
       "  <thead>\n",
       "    <tr style=\"text-align: right;\">\n",
       "      <th></th>\n",
       "      <th>source</th>\n",
       "      <th>target</th>\n",
       "      <th>transaction</th>\n",
       "      <th>weight</th>\n",
       "      <th>value</th>\n",
       "      <th>title</th>\n",
       "    </tr>\n",
       "  </thead>\n",
       "  <tbody>\n",
       "    <tr>\n",
       "      <th>0</th>\n",
       "      <td>61</td>\n",
       "      <td>68275</td>\n",
       "      <td>1</td>\n",
       "      <td>631490</td>\n",
       "      <td>631490</td>\n",
       "      <td>from: 61\\nto: 68275\\ntransaction: 1\\namount: 6...</td>\n",
       "    </tr>\n",
       "    <tr>\n",
       "      <th>1</th>\n",
       "      <td>185</td>\n",
       "      <td>6477</td>\n",
       "      <td>1</td>\n",
       "      <td>518689</td>\n",
       "      <td>518689</td>\n",
       "      <td>from: 185\\nto: 6477\\ntransaction: 1\\namount: 5...</td>\n",
       "    </tr>\n",
       "    <tr>\n",
       "      <th>2</th>\n",
       "      <td>195</td>\n",
       "      <td>35270</td>\n",
       "      <td>1</td>\n",
       "      <td>335249</td>\n",
       "      <td>335249</td>\n",
       "      <td>from: 195\\nto: 35270\\ntransaction: 1\\namount: ...</td>\n",
       "    </tr>\n",
       "    <tr>\n",
       "      <th>3</th>\n",
       "      <td>226</td>\n",
       "      <td>42168</td>\n",
       "      <td>1</td>\n",
       "      <td>226479</td>\n",
       "      <td>226479</td>\n",
       "      <td>from: 226\\nto: 42168\\ntransaction: 1\\namount: ...</td>\n",
       "    </tr>\n",
       "    <tr>\n",
       "      <th>4</th>\n",
       "      <td>239</td>\n",
       "      <td>86839</td>\n",
       "      <td>1</td>\n",
       "      <td>478195</td>\n",
       "      <td>478195</td>\n",
       "      <td>from: 239\\nto: 86839\\ntransaction: 1\\namount: ...</td>\n",
       "    </tr>\n",
       "    <tr>\n",
       "      <th>...</th>\n",
       "      <td>...</td>\n",
       "      <td>...</td>\n",
       "      <td>...</td>\n",
       "      <td>...</td>\n",
       "      <td>...</td>\n",
       "      <td>...</td>\n",
       "    </tr>\n",
       "    <tr>\n",
       "      <th>2335</th>\n",
       "      <td>99775</td>\n",
       "      <td>45704</td>\n",
       "      <td>1</td>\n",
       "      <td>2873466</td>\n",
       "      <td>2873466</td>\n",
       "      <td>from: 99775\\nto: 45704\\ntransaction: 1\\namount...</td>\n",
       "    </tr>\n",
       "    <tr>\n",
       "      <th>2336</th>\n",
       "      <td>99897</td>\n",
       "      <td>90762</td>\n",
       "      <td>1</td>\n",
       "      <td>6763814</td>\n",
       "      <td>6763814</td>\n",
       "      <td>from: 99897\\nto: 90762\\ntransaction: 1\\namount...</td>\n",
       "    </tr>\n",
       "    <tr>\n",
       "      <th>2337</th>\n",
       "      <td>99934</td>\n",
       "      <td>55222</td>\n",
       "      <td>1</td>\n",
       "      <td>3855137</td>\n",
       "      <td>3855137</td>\n",
       "      <td>from: 99934\\nto: 55222\\ntransaction: 1\\namount...</td>\n",
       "    </tr>\n",
       "    <tr>\n",
       "      <th>2338</th>\n",
       "      <td>99938</td>\n",
       "      <td>85146</td>\n",
       "      <td>1</td>\n",
       "      <td>68412</td>\n",
       "      <td>68412</td>\n",
       "      <td>from: 99938\\nto: 85146\\ntransaction: 1\\namount...</td>\n",
       "    </tr>\n",
       "    <tr>\n",
       "      <th>2339</th>\n",
       "      <td>100000</td>\n",
       "      <td>86903</td>\n",
       "      <td>1</td>\n",
       "      <td>215499</td>\n",
       "      <td>215499</td>\n",
       "      <td>from: 100000\\nto: 86903\\ntransaction: 1\\namoun...</td>\n",
       "    </tr>\n",
       "  </tbody>\n",
       "</table>\n",
       "<p>2340 rows × 6 columns</p>\n",
       "</div>"
      ],
      "text/plain": [
       "      source  target  transaction   weight    value  \\\n",
       "0         61   68275            1   631490   631490   \n",
       "1        185    6477            1   518689   518689   \n",
       "2        195   35270            1   335249   335249   \n",
       "3        226   42168            1   226479   226479   \n",
       "4        239   86839            1   478195   478195   \n",
       "...      ...     ...          ...      ...      ...   \n",
       "2335   99775   45704            1  2873466  2873466   \n",
       "2336   99897   90762            1  6763814  6763814   \n",
       "2337   99934   55222            1  3855137  3855137   \n",
       "2338   99938   85146            1    68412    68412   \n",
       "2339  100000   86903            1   215499   215499   \n",
       "\n",
       "                                                  title  \n",
       "0     from: 61\\nto: 68275\\ntransaction: 1\\namount: 6...  \n",
       "1     from: 185\\nto: 6477\\ntransaction: 1\\namount: 5...  \n",
       "2     from: 195\\nto: 35270\\ntransaction: 1\\namount: ...  \n",
       "3     from: 226\\nto: 42168\\ntransaction: 1\\namount: ...  \n",
       "4     from: 239\\nto: 86839\\ntransaction: 1\\namount: ...  \n",
       "...                                                 ...  \n",
       "2335  from: 99775\\nto: 45704\\ntransaction: 1\\namount...  \n",
       "2336  from: 99897\\nto: 90762\\ntransaction: 1\\namount...  \n",
       "2337  from: 99934\\nto: 55222\\ntransaction: 1\\namount...  \n",
       "2338  from: 99938\\nto: 85146\\ntransaction: 1\\namount...  \n",
       "2339  from: 100000\\nto: 86903\\ntransaction: 1\\namoun...  \n",
       "\n",
       "[2340 rows x 6 columns]"
      ]
     },
     "execution_count": 6,
     "metadata": {},
     "output_type": "execute_result"
    }
   ],
   "source": [
    "df = pp.groupby(['source', 'target'],as_index=False).agg({'weight':['count','sum']})\n",
    "df.columns = ['source','target','transaction','weight']\n",
    "df.to_csv('dcashinwithamount.csv',index=False)\n",
    "df['value'] = df ['weight']\n",
    "df['title'] = df.apply(lambda df: f'from: {df.source}\\nto: {df.target}\\ntransaction: {df.transaction:,.0f}\\namount: {df.weight:,.0f}', axis=1)\n",
    "\n",
    "df"
   ]
  },
  {
   "cell_type": "code",
   "execution_count": 7,
   "id": "486791db",
   "metadata": {
    "scrolled": true
   },
   "outputs": [],
   "source": [
    "# datatransfer1 = pp2.groupby(['source', 'target'],as_index=False).agg({'weight':['count','sum']})\n",
    "# datatransfer1.columns = ['source','target','transaction','weight']\n",
    "# datatransfer1.to_csv('dtransferwithamount.csv',index=False)\n",
    "# datatransfer1['value'] = datatransfer1['weight']\n",
    "# datatransfer1['title'] = datatransfer1.apply(lambda df: f'from: {df.source}\\nto: {df.target}\\ntransaction: {df.transaction:,.0f}\\namount: {df.weight:,.0f}', axis=1)\n",
    "\n",
    "\n",
    "# datatransfer1"
   ]
  },
  {
   "cell_type": "code",
   "execution_count": 8,
   "id": "e6868e38",
   "metadata": {},
   "outputs": [],
   "source": [
    "G = nx.from_pandas_edgelist(df, source='source', target='target', edge_attr=['title','value'])"
   ]
  },
  {
   "cell_type": "code",
   "execution_count": 9,
   "id": "e14ac415",
   "metadata": {},
   "outputs": [
    {
     "data": {
      "text/plain": [
       "[(61,\n",
       "  68275,\n",
       "  {'title': 'from: 61\\nto: 68275\\ntransaction: 1\\namount: 631,490',\n",
       "   'value': 631490}),\n",
       " (61,\n",
       "  20779,\n",
       "  {'title': 'from: 20779\\nto: 61\\ntransaction: 1\\namount: 4,697,163',\n",
       "   'value': 4697163})]"
      ]
     },
     "execution_count": 9,
     "metadata": {},
     "output_type": "execute_result"
    }
   ],
   "source": [
    "list(G.edges(data=True))[0:2]"
   ]
  },
  {
   "cell_type": "code",
   "execution_count": 10,
   "id": "37ba4c4e",
   "metadata": {},
   "outputs": [],
   "source": [
    "# H = nx.from_pandas_edgelist(datatransfer1, source='source', target='target', edge_attr=['title','value'])"
   ]
  },
  {
   "cell_type": "code",
   "execution_count": 11,
   "id": "7f6c89c3",
   "metadata": {},
   "outputs": [],
   "source": [
    "# list(H.edges(data=True))[0:2]"
   ]
  },
  {
   "cell_type": "code",
   "execution_count": 12,
   "id": "ebcccd6e",
   "metadata": {},
   "outputs": [
    {
     "name": "stdout",
     "output_type": "stream",
     "text": [
      "Warning: When  cdn_resources is 'local' jupyter notebook has issues displaying graphics on chrome/safari. Use cdn_resources='in_line' or cdn_resources='remote' if you have issues viewing graphics in a notebook.\n",
      "pyvis.html\n"
     ]
    },
    {
     "data": {
      "text/html": [
       "\n",
       "        <iframe\n",
       "            width=\"100%\"\n",
       "            height=\"100%\"\n",
       "            src=\"pyvis.html\"\n",
       "            frameborder=\"0\"\n",
       "            allowfullscreen\n",
       "            \n",
       "        ></iframe>\n",
       "        "
      ],
      "text/plain": [
       "<IPython.lib.display.IFrame at 0x25f61ffada0>"
      ]
     },
     "execution_count": 12,
     "metadata": {},
     "output_type": "execute_result"
    }
   ],
   "source": [
    "# Pyvis\n",
    "nt = net.Network(width='100%', height='100%', directed=False, notebook=True)\n",
    "nt.toggle_physics(False)\n",
    "nt.from_nx(G)\n",
    "nt.show('pyvis.html')"
   ]
  },
  {
   "cell_type": "code",
   "execution_count": 13,
   "id": "483a8ac4",
   "metadata": {},
   "outputs": [],
   "source": [
    "# # Pyvis Transfer\n",
    "# nt = net.Network(width='100%', height='100%', directed=False, notebook=True)\n",
    "# nt.toggle_physics(False)\n",
    "# nt.from_nx(H)\n",
    "# nt.show('pyvis_transfer.html')"
   ]
  },
  {
   "cell_type": "markdown",
   "id": "f77104ec",
   "metadata": {},
   "source": [
    "# Mengidentifikasi komponen yang terkoneksi secara khusus"
   ]
  },
  {
   "cell_type": "code",
   "execution_count": 14,
   "id": "8bd9c2ba",
   "metadata": {
    "collapsed": true,
    "jupyter": {
     "outputs_hidden": true
    },
    "tags": []
   },
   "outputs": [
    {
     "data": {
      "text/plain": [
       "[{61,\n",
       "  2349,\n",
       "  4017,\n",
       "  8566,\n",
       "  10202,\n",
       "  12781,\n",
       "  20779,\n",
       "  20896,\n",
       "  26296,\n",
       "  26740,\n",
       "  31610,\n",
       "  32548,\n",
       "  33174,\n",
       "  39185,\n",
       "  47047,\n",
       "  48265,\n",
       "  51626,\n",
       "  54367,\n",
       "  54988,\n",
       "  55468,\n",
       "  58107,\n",
       "  59772,\n",
       "  65175,\n",
       "  67570,\n",
       "  68275,\n",
       "  69285,\n",
       "  70734,\n",
       "  81173,\n",
       "  88062,\n",
       "  91404,\n",
       "  95867,\n",
       "  98698},\n",
       " {185,\n",
       "  728,\n",
       "  887,\n",
       "  1020,\n",
       "  3092,\n",
       "  3164,\n",
       "  3226,\n",
       "  3361,\n",
       "  4845,\n",
       "  5490,\n",
       "  5795,\n",
       "  5953,\n",
       "  6281,\n",
       "  6477,\n",
       "  7181,\n",
       "  7480,\n",
       "  8400,\n",
       "  8654,\n",
       "  8692,\n",
       "  9277,\n",
       "  9363,\n",
       "  9532,\n",
       "  9614,\n",
       "  10908,\n",
       "  12860,\n",
       "  13407,\n",
       "  13800,\n",
       "  14030,\n",
       "  14080,\n",
       "  14613,\n",
       "  14656,\n",
       "  14945,\n",
       "  15100,\n",
       "  15746,\n",
       "  15988,\n",
       "  17240,\n",
       "  17345,\n",
       "  19626,\n",
       "  19682,\n",
       "  19833,\n",
       "  20261,\n",
       "  20451,\n",
       "  20575,\n",
       "  20814,\n",
       "  21392,\n",
       "  22427,\n",
       "  23309,\n",
       "  23636,\n",
       "  23762,\n",
       "  23784,\n",
       "  24259,\n",
       "  24266,\n",
       "  24405,\n",
       "  24981,\n",
       "  25307,\n",
       "  26390,\n",
       "  26416,\n",
       "  26448,\n",
       "  26579,\n",
       "  26783,\n",
       "  27332,\n",
       "  27986,\n",
       "  28942,\n",
       "  29043,\n",
       "  29754,\n",
       "  30105,\n",
       "  30714,\n",
       "  30965,\n",
       "  31269,\n",
       "  31783,\n",
       "  32042,\n",
       "  32685,\n",
       "  32822,\n",
       "  33427,\n",
       "  33443,\n",
       "  33789,\n",
       "  33823,\n",
       "  33994,\n",
       "  34767,\n",
       "  35086,\n",
       "  36839,\n",
       "  37108,\n",
       "  37177,\n",
       "  37235,\n",
       "  38007,\n",
       "  38993,\n",
       "  39631,\n",
       "  40167,\n",
       "  41485,\n",
       "  41634,\n",
       "  42203,\n",
       "  43725,\n",
       "  43793,\n",
       "  45553,\n",
       "  45785,\n",
       "  45938,\n",
       "  46066,\n",
       "  46307,\n",
       "  46627,\n",
       "  47205,\n",
       "  48011,\n",
       "  48135,\n",
       "  49391,\n",
       "  49600,\n",
       "  51446,\n",
       "  52096,\n",
       "  52681,\n",
       "  52890,\n",
       "  53113,\n",
       "  53540,\n",
       "  53589,\n",
       "  54971,\n",
       "  55340,\n",
       "  56410,\n",
       "  57075,\n",
       "  57149,\n",
       "  57772,\n",
       "  57913,\n",
       "  58026,\n",
       "  58428,\n",
       "  58669,\n",
       "  58869,\n",
       "  58899,\n",
       "  59891,\n",
       "  60094,\n",
       "  61008,\n",
       "  61286,\n",
       "  61346,\n",
       "  61733,\n",
       "  62257,\n",
       "  62348,\n",
       "  63029,\n",
       "  63112,\n",
       "  63228,\n",
       "  63679,\n",
       "  64316,\n",
       "  64550,\n",
       "  64716,\n",
       "  64845,\n",
       "  67648,\n",
       "  68229,\n",
       "  68699,\n",
       "  69355,\n",
       "  70964,\n",
       "  72164,\n",
       "  72317,\n",
       "  73371,\n",
       "  74177,\n",
       "  74470,\n",
       "  75468,\n",
       "  76031,\n",
       "  77238,\n",
       "  77370,\n",
       "  77458,\n",
       "  78041,\n",
       "  78832,\n",
       "  79920,\n",
       "  80113,\n",
       "  80135,\n",
       "  80337,\n",
       "  80408,\n",
       "  80750,\n",
       "  82016,\n",
       "  82508,\n",
       "  83790,\n",
       "  84051,\n",
       "  85462,\n",
       "  86756,\n",
       "  87134,\n",
       "  88290,\n",
       "  88400,\n",
       "  88488,\n",
       "  88916,\n",
       "  89714,\n",
       "  89730,\n",
       "  90607,\n",
       "  91533,\n",
       "  92057,\n",
       "  92983,\n",
       "  93055,\n",
       "  93262,\n",
       "  93608,\n",
       "  94130,\n",
       "  94472,\n",
       "  94900,\n",
       "  95733,\n",
       "  96016,\n",
       "  98174,\n",
       "  98596,\n",
       "  98751,\n",
       "  99179,\n",
       "  99632,\n",
       "  99754},\n",
       " {195,\n",
       "  10607,\n",
       "  10681,\n",
       "  15486,\n",
       "  25847,\n",
       "  26144,\n",
       "  27119,\n",
       "  33645,\n",
       "  35270,\n",
       "  35866,\n",
       "  38833,\n",
       "  41461,\n",
       "  45257,\n",
       "  45645,\n",
       "  51984,\n",
       "  55072,\n",
       "  55321,\n",
       "  67040,\n",
       "  67565,\n",
       "  68821,\n",
       "  74350,\n",
       "  75203,\n",
       "  80604,\n",
       "  80621,\n",
       "  91877},\n",
       " {226,\n",
       "  4474,\n",
       "  5128,\n",
       "  5185,\n",
       "  6953,\n",
       "  9232,\n",
       "  10195,\n",
       "  12431,\n",
       "  14309,\n",
       "  14355,\n",
       "  18247,\n",
       "  26096,\n",
       "  32144,\n",
       "  33510,\n",
       "  42168,\n",
       "  47522,\n",
       "  49635,\n",
       "  52112,\n",
       "  53121,\n",
       "  59800,\n",
       "  67834,\n",
       "  70669,\n",
       "  70960,\n",
       "  71600,\n",
       "  73320,\n",
       "  73501,\n",
       "  76223,\n",
       "  78150,\n",
       "  80584,\n",
       "  81516,\n",
       "  84640,\n",
       "  89495,\n",
       "  93815},\n",
       " {239,\n",
       "  9373,\n",
       "  17130,\n",
       "  23506,\n",
       "  26220,\n",
       "  28248,\n",
       "  43372,\n",
       "  43742,\n",
       "  44499,\n",
       "  46161,\n",
       "  58473,\n",
       "  59524,\n",
       "  60455,\n",
       "  65676,\n",
       "  68061,\n",
       "  75295,\n",
       "  85972,\n",
       "  86839,\n",
       "  95970}]"
      ]
     },
     "execution_count": 14,
     "metadata": {},
     "output_type": "execute_result"
    }
   ],
   "source": [
    "list(nx.connected_components(G))[0:5]"
   ]
  },
  {
   "cell_type": "code",
   "execution_count": 15,
   "id": "c312cda5",
   "metadata": {
    "tags": []
   },
   "outputs": [],
   "source": [
    "# list(nx.connected_components(H))[0:5]"
   ]
  },
  {
   "cell_type": "code",
   "execution_count": 16,
   "id": "21a1fb92",
   "metadata": {},
   "outputs": [
    {
     "data": {
      "text/plain": [
       "481"
      ]
     },
     "execution_count": 16,
     "metadata": {},
     "output_type": "execute_result"
    }
   ],
   "source": [
    "len(list(nx.connected_components(G)))"
   ]
  },
  {
   "cell_type": "code",
   "execution_count": 17,
   "id": "e024d846",
   "metadata": {},
   "outputs": [],
   "source": [
    "# len(list(nx.connected_components(H)))"
   ]
  },
  {
   "cell_type": "markdown",
   "id": "63487a1e",
   "metadata": {},
   "source": [
    "# Assign Community to each node"
   ]
  },
  {
   "cell_type": "code",
   "execution_count": 18,
   "id": "6f9243cf",
   "metadata": {},
   "outputs": [],
   "source": [
    "group_dict_G = {}\n",
    "\n",
    "for group, nodes in enumerate(sorted(list(nx.connected_components(G)), key=len, reverse=True), start=1):\n",
    "    for node in nodes:\n",
    "        group_dict_G[node] = group"
   ]
  },
  {
   "cell_type": "code",
   "execution_count": 19,
   "id": "0a96cf76",
   "metadata": {},
   "outputs": [
    {
     "data": {
      "text/html": [
       "<div>\n",
       "<style scoped>\n",
       "    .dataframe tbody tr th:only-of-type {\n",
       "        vertical-align: middle;\n",
       "    }\n",
       "\n",
       "    .dataframe tbody tr th {\n",
       "        vertical-align: top;\n",
       "    }\n",
       "\n",
       "    .dataframe thead th {\n",
       "        text-align: right;\n",
       "    }\n",
       "</style>\n",
       "<table border=\"1\" class=\"dataframe\">\n",
       "  <thead>\n",
       "    <tr style=\"text-align: right;\">\n",
       "      <th></th>\n",
       "      <th>source</th>\n",
       "      <th>group</th>\n",
       "    </tr>\n",
       "  </thead>\n",
       "  <tbody>\n",
       "    <tr>\n",
       "      <th>59</th>\n",
       "      <td>185</td>\n",
       "      <td>1</td>\n",
       "    </tr>\n",
       "    <tr>\n",
       "      <th>74</th>\n",
       "      <td>728</td>\n",
       "      <td>1</td>\n",
       "    </tr>\n",
       "    <tr>\n",
       "      <th>144</th>\n",
       "      <td>887</td>\n",
       "      <td>1</td>\n",
       "    </tr>\n",
       "    <tr>\n",
       "      <th>191</th>\n",
       "      <td>1020</td>\n",
       "      <td>1</td>\n",
       "    </tr>\n",
       "    <tr>\n",
       "      <th>4</th>\n",
       "      <td>3092</td>\n",
       "      <td>1</td>\n",
       "    </tr>\n",
       "    <tr>\n",
       "      <th>...</th>\n",
       "      <td>...</td>\n",
       "      <td>...</td>\n",
       "    </tr>\n",
       "    <tr>\n",
       "      <th>2813</th>\n",
       "      <td>99775</td>\n",
       "      <td>479</td>\n",
       "    </tr>\n",
       "    <tr>\n",
       "      <th>2814</th>\n",
       "      <td>55222</td>\n",
       "      <td>480</td>\n",
       "    </tr>\n",
       "    <tr>\n",
       "      <th>2815</th>\n",
       "      <td>99934</td>\n",
       "      <td>480</td>\n",
       "    </tr>\n",
       "    <tr>\n",
       "      <th>2817</th>\n",
       "      <td>85146</td>\n",
       "      <td>481</td>\n",
       "    </tr>\n",
       "    <tr>\n",
       "      <th>2816</th>\n",
       "      <td>99938</td>\n",
       "      <td>481</td>\n",
       "    </tr>\n",
       "  </tbody>\n",
       "</table>\n",
       "<p>2818 rows × 2 columns</p>\n",
       "</div>"
      ],
      "text/plain": [
       "      source  group\n",
       "59       185      1\n",
       "74       728      1\n",
       "144      887      1\n",
       "191     1020      1\n",
       "4       3092      1\n",
       "...      ...    ...\n",
       "2813   99775    479\n",
       "2814   55222    480\n",
       "2815   99934    480\n",
       "2817   85146    481\n",
       "2816   99938    481\n",
       "\n",
       "[2818 rows x 2 columns]"
      ]
     },
     "execution_count": 19,
     "metadata": {},
     "output_type": "execute_result"
    }
   ],
   "source": [
    "groupG = pd.DataFrame({'source':group_dict_G.keys(), 'group':group_dict_G.values()}).sort_values(by=['group','source'])\n",
    "groupG"
   ]
  },
  {
   "cell_type": "code",
   "execution_count": 20,
   "id": "d87e67c7",
   "metadata": {},
   "outputs": [],
   "source": [
    "# group_dict_H = {}\n",
    "\n",
    "# for groupA, nodes in enumerate(sorted(list(nx.connected_components(H)), key=len, reverse=True), start=1):\n",
    "#     for node in nodes:\n",
    "#         group_dict_H[node] = groupA"
   ]
  },
  {
   "cell_type": "code",
   "execution_count": 21,
   "id": "fc6ae1a3",
   "metadata": {},
   "outputs": [],
   "source": [
    "# groupH = pd.DataFrame({'source':group_dict_H.keys(), 'group':group_dict_H.values()}).sort_values(by=['group','source'])\n",
    "# groupH"
   ]
  },
  {
   "cell_type": "code",
   "execution_count": 22,
   "id": "996d67e8",
   "metadata": {},
   "outputs": [
    {
     "data": {
      "text/html": [
       "<div>\n",
       "<style scoped>\n",
       "    .dataframe tbody tr th:only-of-type {\n",
       "        vertical-align: middle;\n",
       "    }\n",
       "\n",
       "    .dataframe tbody tr th {\n",
       "        vertical-align: top;\n",
       "    }\n",
       "\n",
       "    .dataframe thead th {\n",
       "        text-align: right;\n",
       "    }\n",
       "</style>\n",
       "<table border=\"1\" class=\"dataframe\">\n",
       "  <thead>\n",
       "    <tr style=\"text-align: right;\">\n",
       "      <th></th>\n",
       "      <th>group</th>\n",
       "      <th>num_of_nodes</th>\n",
       "    </tr>\n",
       "  </thead>\n",
       "  <tbody>\n",
       "    <tr>\n",
       "      <th>0</th>\n",
       "      <td>1</td>\n",
       "      <td>193</td>\n",
       "    </tr>\n",
       "    <tr>\n",
       "      <th>1</th>\n",
       "      <td>2</td>\n",
       "      <td>176</td>\n",
       "    </tr>\n",
       "    <tr>\n",
       "      <th>2</th>\n",
       "      <td>3</td>\n",
       "      <td>117</td>\n",
       "    </tr>\n",
       "    <tr>\n",
       "      <th>3</th>\n",
       "      <td>4</td>\n",
       "      <td>113</td>\n",
       "    </tr>\n",
       "    <tr>\n",
       "      <th>4</th>\n",
       "      <td>5</td>\n",
       "      <td>67</td>\n",
       "    </tr>\n",
       "    <tr>\n",
       "      <th>...</th>\n",
       "      <td>...</td>\n",
       "      <td>...</td>\n",
       "    </tr>\n",
       "    <tr>\n",
       "      <th>476</th>\n",
       "      <td>477</td>\n",
       "      <td>2</td>\n",
       "    </tr>\n",
       "    <tr>\n",
       "      <th>477</th>\n",
       "      <td>478</td>\n",
       "      <td>2</td>\n",
       "    </tr>\n",
       "    <tr>\n",
       "      <th>478</th>\n",
       "      <td>479</td>\n",
       "      <td>2</td>\n",
       "    </tr>\n",
       "    <tr>\n",
       "      <th>479</th>\n",
       "      <td>480</td>\n",
       "      <td>2</td>\n",
       "    </tr>\n",
       "    <tr>\n",
       "      <th>480</th>\n",
       "      <td>481</td>\n",
       "      <td>2</td>\n",
       "    </tr>\n",
       "  </tbody>\n",
       "</table>\n",
       "<p>481 rows × 2 columns</p>\n",
       "</div>"
      ],
      "text/plain": [
       "     group  num_of_nodes\n",
       "0        1           193\n",
       "1        2           176\n",
       "2        3           117\n",
       "3        4           113\n",
       "4        5            67\n",
       "..     ...           ...\n",
       "476    477             2\n",
       "477    478             2\n",
       "478    479             2\n",
       "479    480             2\n",
       "480    481             2\n",
       "\n",
       "[481 rows x 2 columns]"
      ]
     },
     "execution_count": 22,
     "metadata": {},
     "output_type": "execute_result"
    }
   ],
   "source": [
    "group_summary = groupG.groupby('group', as_index=False).agg({'source':'count'}).rename(columns={'source':'num_of_nodes'})\n",
    "group_summary"
   ]
  },
  {
   "cell_type": "code",
   "execution_count": 23,
   "id": "de1ca1c1",
   "metadata": {},
   "outputs": [],
   "source": [
    "# group_summary_transfer = groupH.groupby('group', as_index=False).agg({'source':'count'}).rename(columns={'source':'num_of_nodes'})\n",
    "# group_summary_transfer"
   ]
  },
  {
   "cell_type": "markdown",
   "id": "1cb937f2",
   "metadata": {},
   "source": [
    "# Display ID, group, degree and neighbors in graph (hover on node)"
   ]
  },
  {
   "cell_type": "code",
   "execution_count": 24,
   "id": "ebd16e1a",
   "metadata": {},
   "outputs": [],
   "source": [
    "nx.set_node_attributes(G, group_dict_G, 'group')\n",
    "\n",
    "degree_dict_G = dict(G.degree)\n",
    "nx.set_node_attributes(G, degree_dict_G, 'value')\n",
    "\n",
    "neighbor_dict_G = {}\n",
    "for node in list(G.nodes):\n",
    "    neighbor_dict_G[node] = ','.join(str(v) for v in G.neighbors(node))\n",
    "\n",
    "title_dict_G = {}\n",
    "for node in list(G.nodes):\n",
    "    title_dict_G[node] = f'id: {node}\\ngroup: {group_dict_G[node]}\\ndegree: {degree_dict_G[node]}\\nneighbor: {neighbor_dict_G[node]}'\n",
    "nx.set_node_attributes(G, title_dict_G, 'title')"
   ]
  },
  {
   "cell_type": "code",
   "execution_count": 25,
   "id": "ef1b5912",
   "metadata": {},
   "outputs": [],
   "source": [
    "# #Transfer\n",
    "\n",
    "# nx.set_node_attributes(H, group_dict_H, 'group')\n",
    "\n",
    "# degree_dict_H = dict(H.degree)\n",
    "# nx.set_node_attributes(H, degree_dict_H, 'value')\n",
    "\n",
    "# neighbor_dict_H = {}\n",
    "# for node in list(H.nodes):\n",
    "#     neighbor_dict_H[node] = ','.join(str(v) for v in H.neighbors(node))\n",
    "\n",
    "# title_dict_H = {}\n",
    "# for node in list(H.nodes):\n",
    "#     title_dict_H[node] = f'id: {node}\\ngroup: {group_dict_H[node]}\\ndegree: {degree_dict_H[node]}\\nneighbor: {neighbor_dict_H[node]}'\n",
    "# nx.set_node_attributes(H, title_dict_H, 'title')"
   ]
  },
  {
   "cell_type": "markdown",
   "id": "5ff60b86",
   "metadata": {},
   "source": [
    "# Create subgraph to display selected groups only"
   ]
  },
  {
   "cell_type": "code",
   "execution_count": 26,
   "id": "bda43383",
   "metadata": {},
   "outputs": [],
   "source": [
    "target_groupsG = [1,2,3,4]\n",
    "target_nodesG = [node for node, group in group_dict_G.items() if group in target_groupsG]\n",
    "\n",
    "G_sub = G.subgraph(target_nodesG)"
   ]
  },
  {
   "cell_type": "code",
   "execution_count": 27,
   "id": "2a90fc71",
   "metadata": {},
   "outputs": [],
   "source": [
    "# target_groupsH = [1,2,3,4]\n",
    "# target_nodesH = [node for node, group in group_dict_H.items() if group in target_groupsH]\n",
    "\n",
    "# H_sub = H.subgraph(target_nodesH)"
   ]
  },
  {
   "cell_type": "code",
   "execution_count": 28,
   "id": "f5d3b52f",
   "metadata": {},
   "outputs": [],
   "source": [
    "def show_graph(graph, filename):\n",
    "    nt = net.Network(width='100%', height='100%', directed=True, notebook=True)\n",
    "    nt.from_nx(graph)\n",
    "    nt.show(filename)"
   ]
  },
  {
   "cell_type": "code",
   "execution_count": 29,
   "id": "4a7c140b",
   "metadata": {
    "scrolled": true
   },
   "outputs": [
    {
     "name": "stdout",
     "output_type": "stream",
     "text": [
      "Warning: When  cdn_resources is 'local' jupyter notebook has issues displaying graphics on chrome/safari. Use cdn_resources='in_line' or cdn_resources='remote' if you have issues viewing graphics in a notebook.\n",
      "communities_subgroup.html\n"
     ]
    }
   ],
   "source": [
    "show_graph(G_sub, 'communities_subgroup.html')"
   ]
  },
  {
   "cell_type": "code",
   "execution_count": 30,
   "id": "1254a5d5",
   "metadata": {},
   "outputs": [],
   "source": [
    "# show_graph(H_sub, 'communities_transfer_subgroup.html')"
   ]
  },
  {
   "cell_type": "code",
   "execution_count": 31,
   "id": "187d89ec",
   "metadata": {},
   "outputs": [
    {
     "name": "stdout",
     "output_type": "stream",
     "text": [
      "Warning: When  cdn_resources is 'local' jupyter notebook has issues displaying graphics on chrome/safari. Use cdn_resources='in_line' or cdn_resources='remote' if you have issues viewing graphics in a notebook.\n",
      "communities_kamada_kawai.html\n"
     ]
    },
    {
     "data": {
      "text/html": [
       "\n",
       "        <iframe\n",
       "            width=\"100%\"\n",
       "            height=\"100%\"\n",
       "            src=\"communities_kamada_kawai.html\"\n",
       "            frameborder=\"0\"\n",
       "            allowfullscreen\n",
       "            \n",
       "        ></iframe>\n",
       "        "
      ],
      "text/plain": [
       "<IPython.lib.display.IFrame at 0x25f62239060>"
      ]
     },
     "execution_count": 31,
     "metadata": {},
     "output_type": "execute_result"
    }
   ],
   "source": [
    "nt = net.Network(width='100%', height='100%', directed=True, notebook=True)\n",
    "nt.from_nx(G_sub)\n",
    "\n",
    "pos = nx.kamada_kawai_layout(G_sub, scale=1000)\n",
    "for node in nt.nodes:\n",
    "    node['x'] = pos[node['id']][0]\n",
    "    node['y'] = pos[node['id']][1]\n",
    "\n",
    "nt.show('communities_kamada_kawai.html')"
   ]
  },
  {
   "cell_type": "code",
   "execution_count": 32,
   "id": "2285979a",
   "metadata": {},
   "outputs": [],
   "source": [
    "# nt = net.Network(width='100%', height='100%', directed=True, notebook=True)\n",
    "# nt.from_nx(H_sub)\n",
    "\n",
    "# pos = nx.kamada_kawai_layout(H_sub, scale=1000)\n",
    "# for node in nt.nodes:\n",
    "#     node['x'] = pos[node['id']][0]\n",
    "#     node['y'] = pos[node['id']][1]\n",
    "\n",
    "# nt.show('08_communities_kamada_kawai_transfer.html')"
   ]
  },
  {
   "cell_type": "code",
   "execution_count": 33,
   "id": "9e6c3944",
   "metadata": {},
   "outputs": [
    {
     "name": "stdout",
     "output_type": "stream",
     "text": [
      "Warning: When  cdn_resources is 'local' jupyter notebook has issues displaying graphics on chrome/safari. Use cdn_resources='in_line' or cdn_resources='remote' if you have issues viewing graphics in a notebook.\n",
      "09_communities_spring.html\n"
     ]
    },
    {
     "data": {
      "text/html": [
       "\n",
       "        <iframe\n",
       "            width=\"100%\"\n",
       "            height=\"100%\"\n",
       "            src=\"09_communities_spring.html\"\n",
       "            frameborder=\"0\"\n",
       "            allowfullscreen\n",
       "            \n",
       "        ></iframe>\n",
       "        "
      ],
      "text/plain": [
       "<IPython.lib.display.IFrame at 0x25f62239ed0>"
      ]
     },
     "execution_count": 33,
     "metadata": {},
     "output_type": "execute_result"
    }
   ],
   "source": [
    "nt = net.Network(width='100%', height='100%', directed=True, notebook=True)\n",
    "nt.from_nx(G_sub)\n",
    "\n",
    "pos = nx.spring_layout(G_sub, scale=1000, seed=721, k=0.01)\n",
    "for node in nt.nodes:\n",
    "    node['x'] = pos[node['id']][0]\n",
    "    node['y'] = pos[node['id']][1]\n",
    "\n",
    "nt.show('09_communities_spring.html')"
   ]
  },
  {
   "cell_type": "code",
   "execution_count": 34,
   "id": "ee9ad479",
   "metadata": {},
   "outputs": [],
   "source": [
    "# nt = net.Network(width='100%', height='100%', directed=True, notebook=True)\n",
    "# nt.from_nx(H_sub)\n",
    "\n",
    "# pos = nx.spring_layout(H_sub, scale=1000, seed=721, k=0.01)\n",
    "# for node in nt.nodes:\n",
    "#     node['x'] = pos[node['id']][0]\n",
    "#     node['y'] = pos[node['id']][1]\n",
    "\n",
    "# nt.show('09_communities_spring_transfer.html')"
   ]
  },
  {
   "cell_type": "markdown",
   "id": "7cb927c5",
   "metadata": {},
   "source": [
    "# Identify end-to-end fund flow of any given node"
   ]
  },
  {
   "cell_type": "code",
   "execution_count": 35,
   "id": "7bdbf868",
   "metadata": {},
   "outputs": [
    {
     "name": "stdout",
     "output_type": "stream",
     "text": [
      "Warning: When  cdn_resources is 'local' jupyter notebook has issues displaying graphics on chrome/safari. Use cdn_resources='in_line' or cdn_resources='remote' if you have issues viewing graphics in a notebook.\n",
      "10_show_group_with_given_node.html\n"
     ]
    },
    {
     "data": {
      "text/html": [
       "\n",
       "        <iframe\n",
       "            width=\"100%\"\n",
       "            height=\"100%\"\n",
       "            src=\"10_show_group_with_given_node.html\"\n",
       "            frameborder=\"0\"\n",
       "            allowfullscreen\n",
       "            \n",
       "        ></iframe>\n",
       "        "
      ],
      "text/plain": [
       "<IPython.lib.display.IFrame at 0x25f62e6dd20>"
      ]
     },
     "execution_count": 35,
     "metadata": {},
     "output_type": "execute_result"
    }
   ],
   "source": [
    "target_nodeG = 1599\n",
    "target_groupsG = [dict(G.nodes(data=True))[target_nodeG]['group']]\n",
    "target_nodesG = [node for node, group in group_dict_G.items() if group in target_groupsG]\n",
    "\n",
    "G_sub = G.subgraph(target_nodesG)\n",
    "\n",
    "nt = net.Network(width='100%', height='100%', directed=True, notebook=True)\n",
    "nt.from_nx(G_sub)\n",
    "\n",
    "pos = nx.spring_layout(G_sub, scale=1000, seed=721, k=0.01)\n",
    "for node in nt.nodes:\n",
    "    node['x'] = pos[node['id']][0]\n",
    "    node['y'] = pos[node['id']][1]\n",
    "\n",
    "[node for node in nt.nodes if node['id']==target_nodeG][0]['shape'] = 'image'\n",
    "[node for node in nt.nodes if node['id']==target_nodeG][0]['image'] = 'https://openmoji.org/data/color/svg/1F608.svg'\n",
    "[node for node in nt.nodes if node['id']==target_nodeG][0]['color'] = '#ff4f4f'\n",
    "\n",
    "nt.show('10_show_group_with_given_node.html')"
   ]
  },
  {
   "cell_type": "code",
   "execution_count": null,
   "id": "86f33ef8",
   "metadata": {},
   "outputs": [],
   "source": []
  }
 ],
 "metadata": {
  "kernelspec": {
   "display_name": "Python 3 (ipykernel)",
   "language": "python",
   "name": "python3"
  },
  "language_info": {
   "codemirror_mode": {
    "name": "ipython",
    "version": 3
   },
   "file_extension": ".py",
   "mimetype": "text/x-python",
   "name": "python",
   "nbconvert_exporter": "python",
   "pygments_lexer": "ipython3",
   "version": "3.10.9"
  }
 },
 "nbformat": 4,
 "nbformat_minor": 5
}
